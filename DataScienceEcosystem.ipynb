{
 "cells": [
  {
   "cell_type": "markdown",
   "id": "969cbe77-5b70-470d-99e6-25c6ec730d28",
   "metadata": {},
   "source": [
    "## Data Science Tools and Ecosystem"
   ]
  },
  {
   "cell_type": "markdown",
   "id": "d72654f2-e1ca-441c-b47a-9d54a6815480",
   "metadata": {},
   "source": [
    "##### In this notebook, Data Science Tools and Ecosystem are summarized.\n"
   ]
  },
  {
   "cell_type": "markdown",
   "id": "6b434c99-549a-42bf-b305-29c7e305722a",
   "metadata": {},
   "source": [
    "##### Some of the popular languages that Data Scientists use are:\n",
    "1. python\n",
    "2. R\n",
    "3. SQL"
   ]
  },
  {
   "cell_type": "markdown",
   "id": "4da32dba-b78c-4811-9211-8c0cc114ab46",
   "metadata": {},
   "source": [
    "##### Some of the commonly used libraries used by Data Scientists include:\n",
    "1. numpy\n",
    "2. pandas\n",
    "3. ggplot2"
   ]
  },
  {
   "cell_type": "markdown",
   "id": "cf1b4915-9ace-47e1-ba87-a54f65a54a2e",
   "metadata": {},
   "source": [
    "##### Data Science Tools\n",
    "| Data Science Tools |\n",
    "| ---- |\n",
    "| jupyter lab |\n",
    "| R studio |\n",
    "| sql |"
   ]
  },
  {
   "cell_type": "markdown",
   "id": "ea50843e-0827-40c0-8235-e6d85bc7d8fb",
   "metadata": {},
   "source": [
    "### Below are a few examples of evaluating arithmetic expressions in Python"
   ]
  },
  {
   "cell_type": "code",
   "execution_count": 7,
   "id": "0332177c-64ac-490f-b3fa-dfb841e9cbf4",
   "metadata": {},
   "outputs": [
    {
     "data": {
      "text/plain": [
       "17"
      ]
     },
     "execution_count": 7,
     "metadata": {},
     "output_type": "execute_result"
    }
   ],
   "source": [
    "# This a simple arithmetic expression to mutiply then add integers\n",
    "(3*4)+5\n"
   ]
  },
  {
   "cell_type": "code",
   "execution_count": 9,
   "id": "b946ca79-106e-43b7-9d37-aebb8701e1c7",
   "metadata": {},
   "outputs": [
    {
     "name": "stdout",
     "output_type": "stream",
     "text": [
      "3\n"
     ]
    }
   ],
   "source": [
    "# This will convert 200 minutes to hours by diving by 60\n",
    "minutes = 200\n",
    "hours = minutes // 60\n",
    "print(hours)"
   ]
  },
  {
   "cell_type": "markdown",
   "id": "e9dd95c7-76db-444a-a00e-f54a2af1b144",
   "metadata": {},
   "source": [
    "##### Objectives:\n",
    "- numpy\n",
    "- pandas\n",
    "- ggplot2"
   ]
  },
  {
   "cell_type": "markdown",
   "id": "f3540735-de09-46d9-8aba-4b5e18e5db6b",
   "metadata": {},
   "source": [
    "## Author\n",
    "###### Andria Puja Pratama"
   ]
  },
  {
   "cell_type": "code",
   "execution_count": null,
   "id": "1ba52027-a075-44b1-a481-d7c9496836e7",
   "metadata": {},
   "outputs": [],
   "source": []
  }
 ],
 "metadata": {
  "kernelspec": {
   "display_name": "Python 3 (ipykernel)",
   "language": "python",
   "name": "python3"
  },
  "language_info": {
   "codemirror_mode": {
    "name": "ipython",
    "version": 3
   },
   "file_extension": ".py",
   "mimetype": "text/x-python",
   "name": "python",
   "nbconvert_exporter": "python",
   "pygments_lexer": "ipython3",
   "version": "3.10.9"
  }
 },
 "nbformat": 4,
 "nbformat_minor": 5
}
